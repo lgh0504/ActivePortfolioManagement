{
 "cells": [
  {
   "cell_type": "code",
   "execution_count": 1,
   "metadata": {},
   "outputs": [],
   "source": [
    "import os\n",
    "import pandas as pd\n",
    "import numpy as np\n",
    "import pandas_datareader as pdr\n",
    "import cvxpy as cvx"
   ]
  },
  {
   "cell_type": "code",
   "execution_count": 2,
   "metadata": {},
   "outputs": [],
   "source": [
    "#Only 19 ticker in MMI constitutes after merge of DOW-DuPont\n",
    "list_MMI = ['DWDP', 'CVX', 'WFC', 'MRK', 'XOM', 'DIS', 'JPM', 'KO', 'PG', 'JNJ', 'HPQ', 'MSFT', \n",
    "               'AXP', 'IBM', 'WMT', 'BA', 'MMM', 'MCD', 'GE']\n",
    "N = len(list_MMI) #19\n",
    "date0 = '2015-01-01'\n",
    "date1 = '2019-01-01'"
   ]
  },
  {
   "cell_type": "code",
   "execution_count": 3,
   "metadata": {},
   "outputs": [
    {
     "name": "stdout",
     "output_type": "stream",
     "text": [
      "DateRange 2015-01-05 to 2018-12-31\n"
     ]
    }
   ],
   "source": [
    "#load data or use cached data when force_refresh is false. \n",
    "force_refresh= False\n",
    "file_ret = 'MMI_DailyReturns.csv'\n",
    "file_mktcap = 'MMI_MktCap.csv'\n",
    "if force_refresh:\n",
    "    df_data = pdr.get_data_yahoo(list_MMI, date0, date1)\n",
    "    df_price = df_data['Adj Close']\n",
    "    df_ret = np.log(df_price).diff().dropna(how='all')\n",
    "    df_ret.to_csv(file_ret, index=True)\n",
    "    #use illustrative MktCap data. \n",
    "    ie_mktcap = [i+1 for i in xrange(13)]+[1.5, 1.5, 1.5, 1.5, 1.5, 1.5]\n",
    "    df_mktcap = pd.DataFrame(index=df_ret.index, columns=df_ret.columns)\n",
    "    df_mktcap.iloc[0]=ie_mktcap\n",
    "    df_mktcap = df_mktcap.fillna(method='ffill')\n",
    "    df_mktcap.to_csv(file_mktcap, index=True)\n",
    "else:\n",
    "    df_ret = pd.read_csv(os.path.join('data',file_ret), index_col=0, parse_dates=True)\n",
    "    df_mktcap = pd.read_csv(os.path.join('data',file_mktcap), index_col=0, parse_dates=True)\n",
    "print('DateRange {t0} to {t1}'.format(t0=df_ret.index.min().date(), t1=df_ret.index.max().date()))\n",
    "idx_MMI = df_ret.columns"
   ]
  },
  {
   "cell_type": "code",
   "execution_count": 4,
   "metadata": {},
   "outputs": [],
   "source": [
    "#alway use excess return, assuming fixed risk free rate for simplicity\n",
    "srs_rf = pd.Series(0.01/252, index=df_ret.index) #daily risk free rate\n",
    "df_ret_e = df_ret.apply(lambda x: x - srs_rf)\n",
    "df_ret_m = df_ret_e.resample('M').sum()"
   ]
  },
  {
   "cell_type": "markdown",
   "metadata": {},
   "source": [
    "#### Chapter 2 Risk\n",
    "https://pdfs.semanticscholar.org/75cc/ed88c1199ba9e8607774b62f2af4c92f0875.pdf"
   ]
  },
  {
   "cell_type": "markdown",
   "metadata": {},
   "source": [
    "------------\n",
    "#### Notation:\n",
    "* h - holding vector\n",
    "    - h_a - holding solved by analytical solution\n",
    "    - h_x - holding solved by optimization\n",
    "* f - vector of expected excess return \n",
    "    - f_B - forcast benchmark return \n",
    "* mu - vector of expected excess return in CAPM.  f=mu if CAPM holds. \n",
    "* V - Covariance Matrix\n",
    "* beta - vector of asset beta\n",
    "* e - vector of ones. \n",
    "* a - attribute, can be e, beta, alpha, or factor loading"
   ]
  },
  {
   "cell_type": "code",
   "execution_count": 5,
   "metadata": {},
   "outputs": [],
   "source": [
    "# calc covariance matrix, using monthly return \n",
    "df_cov = df_ret_m.cov()\n",
    "df_mkt_w = (df_mktcap.T/df_mktcap.T.sum()).T\n",
    "df_mkt = (df_mkt_w*df_ret_m).dropna(how='all').sum(axis=1).to_frame(name='MKT')\n",
    "df_ret_fullmkt = pd.concat([df_mkt, df_ret_m], axis=1)\n",
    "\n",
    "V = df_cov\n",
    "V_inv = np.linalg.inv(V)\n",
    "beta = (df_ret_fullmkt.cov() / df_mkt.var())['MKT'][1:]\n",
    "e = np.ones(N)\n",
    "\n",
    "\n",
    "#f = df_ret_m.mean()\n",
    "np.random.seed = 123\n",
    "#use randomg alphas\n",
    "alpha = pd.Series(np.random.standard_normal(N), index=list_MMI)\n",
    "f_MKT = 0.01\n",
    "mu = beta*f_MKT\n",
    "f = mu + alpha"
   ]
  },
  {
   "cell_type": "markdown",
   "metadata": {},
   "source": [
    "--------------------\n",
    "#### Characteristic Portfolios"
   ]
  },
  {
   "cell_type": "code",
   "execution_count": 6,
   "metadata": {},
   "outputs": [
    {
     "name": "stdout",
     "output_type": "stream",
     "text": [
      "Portfolio C (min variance of full invested portfolio)\n",
      "Analytical Solution, varince=0.000535476876684\n",
      "Optimization Solution, varince=0.000535478020835\n",
      "variance diff 1.14415142237e-09\n",
      "Holding difference 1.09413346439e-14\n"
     ]
    }
   ],
   "source": [
    "a = e\n",
    "name = 'Portfolio C (min variance of full invested portfolio)'\n",
    "print(name)\n",
    "\n",
    "h_a = V_inv.dot(a) / a.T.dot(V_inv).dot(a) \n",
    "var = h_a.T.dot(V).dot(h_a)\n",
    "print(\"Analytical Solution, varince={v}\".format(name=name, v=var))\n",
    "\n",
    "#solve numerically\n",
    "h_x = cvx.Variable(N)\n",
    "objective = cvx.Minimize(cvx.quad_form(h_x, V))\n",
    "prob = cvx.Problem(objective, constraints=[cvx.sum(h_x)==1])\n",
    "solv = prob.solve(solver='CVXOPT')\n",
    "print(\"Optimization Solution, varince={v}\".format(name=name, v=solv))\n",
    "print(\"variance diff {d}\".format(d=solv - var))\n",
    "print(\"Holding difference {d}\".format(d = np.sum(np.abs(h_x.value - h_a))))"
   ]
  },
  {
   "cell_type": "code",
   "execution_count": 7,
   "metadata": {},
   "outputs": [
    {
     "name": "stdout",
     "output_type": "stream",
     "text": [
      "Portfolio B (min variance portfolio with beta 1)\n",
      "Analytical Solution, beta=1.0\n",
      "Optimization Solution, beta=1.0\n",
      "beta diff 1.44328993201e-15\n",
      "Holding difference 9.838484194e-15\n"
     ]
    }
   ],
   "source": [
    "a = beta\n",
    "name = 'Portfolio B (min variance portfolio with beta 1)'\n",
    "print(name)\n",
    "\n",
    "h_a = V_inv.dot(a) / a.T.dot(V_inv).dot(a) \n",
    "var = h_a.T.dot(V).dot(h_a)\n",
    "beta_a = h_a.dot(beta)\n",
    "print(\"Analytical Solution, beta={v}\".format(name=name, v=beta_a))\n",
    "\n",
    "#solve numerically\n",
    "h_x = cvx.Variable(N)\n",
    "objective = cvx.Minimize(cvx.quad_form(h_x, V))\n",
    "prob = cvx.Problem(objective, constraints=[cvx.sum(h_x*beta)==1])\n",
    "solv = prob.solve(solver='CVXOPT')\n",
    "beta_solv = h_x.value.dot(beta)\n",
    "print(\"Optimization Solution, beta={v}\".format(name=name, v=beta_solv))\n",
    "print(\"beta diff {d}\".format(d=beta_solv - beta_a))\n",
    "print(\"Holding difference {d}\".format(d = np.sum(np.abs(h_x.value - h_a))))"
   ]
  },
  {
   "cell_type": "code",
   "execution_count": 8,
   "metadata": {},
   "outputs": [
    {
     "name": "stdout",
     "output_type": "stream",
     "text": [
      "Portfolio q, tangent portfolio, maximizing sharpe ratio\n",
      "Analytical Solution, SR=154.700999072\n",
      "Optimization Solution, SR=154.700999072\n",
      "SR diff 0.0\n",
      "Holding difference 2.25167107182e-15\n"
     ]
    }
   ],
   "source": [
    "a = f\n",
    "name = 'Portfolio q, tangent portfolio, maximizing sharpe ratio'\n",
    "print(name)\n",
    "\n",
    "h_a = V_inv.dot(a) / a.T.dot(V_inv).dot(a) \n",
    "var = h_a.T.dot(V).dot(h_a)\n",
    "#sr_a = a.T.dot(V_inv).dot(a)**0.5\n",
    "sr_a=h_a.T.dot(f)/var**0.5\n",
    "print(\"Analytical Solution, SR={v}\".format(name=name, v=sr_a))\n",
    "\n",
    "#solve numerically\n",
    "h_x = cvx.Variable(N)\n",
    "objective = cvx.Minimize(cvx.quad_form(h_x, V))\n",
    "prob = cvx.Problem(objective, constraints=[cvx.sum(h_x*f)==1])\n",
    "solv = prob.solve(solver='CVXOPT')\n",
    "h_q_cvx = h_x.value\n",
    "var_cvx = h_q_cvx.T.dot(V).dot(h_q_cvx)\n",
    "sr_cvx = h_q_cvx.T.dot(f)/var**0.5\n",
    "print(\"Optimization Solution, SR={v}\".format(name=name, v=sr_cvx))\n",
    "print(\"SR diff {d}\".format(d=sr_cvx - sr_a))\n",
    "print(\"Holding difference {d}\".format(d = np.sum(np.abs(h_x.value - h_a))))"
   ]
  },
  {
   "cell_type": "code",
   "execution_count": 9,
   "metadata": {},
   "outputs": [
    {
     "name": "stdout",
     "output_type": "stream",
     "text": [
      "Portfolio A, alpha=1 using leverage. \n",
      "Analytical Solution, alpha=1.0\n",
      "Optimization Solution, SR=1.0\n",
      "alpha diff 4.4408920985e-16\n",
      "Leverage -0.0482321880186\n",
      "Holding difference 4.4408920985e-16\n"
     ]
    }
   ],
   "source": [
    "a = alpha\n",
    "name = 'Portfolio A, alpha=1 using leverage. '\n",
    "print(name)\n",
    "\n",
    "h_a = V_inv.dot(a) / a.T.dot(V_inv).dot(a) \n",
    "var = h_a.T.dot(V).dot(h_a)\n",
    "#sr_a = a.T.dot(V_inv).dot(a)**0.5\n",
    "alpha_a=h_a.T.dot(alpha)\n",
    "print(\"Analytical Solution, alpha={v}\".format(name=name, v=alpha_a))\n",
    "\n",
    "#solve numerically\n",
    "h_x = cvx.Variable(N)\n",
    "objective = cvx.Minimize(cvx.quad_form(h_x, V))\n",
    "prob = cvx.Problem(objective, constraints=[cvx.sum(h_x*alpha)==1])\n",
    "solv = prob.solve(solver='CVXOPT')\n",
    "h_cvx = h_x.value\n",
    "#var_cvx = h_q_cvx.T.dot(V).dot(h_q_cvx)\n",
    "alpha_cvx=h_cvx.T.dot(alpha)\n",
    "print(\"Optimization Solution, SR={v}\".format(name=name, v=alpha_cvx))\n",
    "print(\"alpha diff {d}\".format(d=alpha_a - alpha_cvx))\n",
    "print(\"Leverage {h}\".format(h=h_cvx.sum()))\n",
    "print(\"Holding difference {d}\".format(d = np.sum(np.abs(alpha_a - alpha_cvx))))"
   ]
  },
  {
   "cell_type": "code",
   "execution_count": 10,
   "metadata": {},
   "outputs": [
    {
     "name": "stdout",
     "output_type": "stream",
     "text": [
      "Factor Portfolio, with unit exposure on attribute(i.e. alpha), sum of holding =0.  \n",
      "Optimization Solution, factor exposure=1.0\n",
      "Leverage 1.11022302463e-16\n"
     ]
    }
   ],
   "source": [
    "a = alpha\n",
    "name = 'Factor Portfolio, with unit exposure on attribute(i.e. alpha), sum of holding =0.  '\n",
    "print(name)\n",
    "\n",
    "# h_a = V_inv.dot(a) / a.T.dot(V_inv).dot(a) \n",
    "# var = h_a.T.dot(V).dot(h_a)\n",
    "# #sr_a = a.T.dot(V_inv).dot(a)**0.5\n",
    "# alpha_a=h_a.T.dot(alpha)\n",
    "# print(\"Analytical Solution, alpha={v}\".format(name=name, v=alpha_a))\n",
    "\n",
    "#solve numerically\n",
    "h_x = cvx.Variable(N)\n",
    "objective = cvx.Minimize(cvx.quad_form(h_x, V))\n",
    "prob = cvx.Problem(objective, constraints=[cvx.sum(h_x*alpha)==1, cvx.sum(h_x)==0])\n",
    "solv = prob.solve(solver='CVXOPT')\n",
    "h_cvx = h_x.value\n",
    "#var_cvx = h_q_cvx.T.dot(V).dot(h_q_cvx)\n",
    "alpha_cvx=h_cvx.T.dot(alpha)\n",
    "print(\"Optimization Solution, factor exposure={v}\".format(name=name, v=h_cvx.T.dot(a)))\n",
    "print(\"Leverage {h}\".format(h=h_cvx.sum()))\n",
    "# print(\"Holding difference {d}\".format(d = np.sum(np.abs(alpha_a - alpha_cvx))))"
   ]
  },
  {
   "cell_type": "code",
   "execution_count": null,
   "metadata": {},
   "outputs": [],
   "source": []
  },
  {
   "cell_type": "code",
   "execution_count": null,
   "metadata": {},
   "outputs": [],
   "source": []
  }
 ],
 "metadata": {
  "kernelspec": {
   "display_name": "Python 2",
   "language": "python",
   "name": "python2"
  },
  "language_info": {
   "codemirror_mode": {
    "name": "ipython",
    "version": 2
   },
   "file_extension": ".py",
   "mimetype": "text/x-python",
   "name": "python",
   "nbconvert_exporter": "python",
   "pygments_lexer": "ipython2",
   "version": "2.7.15"
  }
 },
 "nbformat": 4,
 "nbformat_minor": 2
}
